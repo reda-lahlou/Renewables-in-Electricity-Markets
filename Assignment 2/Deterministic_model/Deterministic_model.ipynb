{
 "cells": [
  {
   "cell_type": "markdown",
   "metadata": {},
   "source": [
    "# Insert here your bidding quantity list :"
   ]
  },
  {
   "cell_type": "code",
   "execution_count": 1,
   "metadata": {},
   "outputs": [
    {
     "name": "stdout",
     "output_type": "stream",
     "text": [
      "Index(['day', 'hour', 'dato', 'dati', 'ForeTime', 'hors', 'meas', 'fore', 'q5',\n",
      "       'q10', 'q15', 'q20', 'q25', 'q30', 'q35', 'q40', 'q45', 'q50', 'q55',\n",
      "       'q60', 'q65', 'q70', 'q75', 'q80', 'q85', 'q90', 'q95'],\n",
      "      dtype='object')\n"
     ]
    }
   ],
   "source": [
    "import pandas as pd\n",
    "from pandas import ExcelFile\n",
    "\n",
    "# In my example the bidding quantity are taken from the Wind Data :\n",
    "BidData = pd.read_excel('WindForecast_DA_12.xlsx')\n",
    "print(BidData.columns)                                         # To check the import\n",
    "\n",
    "BID = BidData['fore']"
   ]
  },
  {
   "cell_type": "markdown",
   "metadata": {},
   "source": [
    "# Calculation code :"
   ]
  },
  {
   "cell_type": "markdown",
   "metadata": {},
   "source": [
    "### Data :"
   ]
  },
  {
   "cell_type": "markdown",
   "metadata": {},
   "source": [
    "#### Import Data :"
   ]
  },
  {
   "cell_type": "code",
   "execution_count": 2,
   "metadata": {},
   "outputs": [
    {
     "name": "stdout",
     "output_type": "stream",
     "text": [
      "Index(['day', 'hour', 'dato', 'dati', 'ForeTime', 'hors', 'meas', 'fore', 'q5',\n",
      "       'q10', 'q15', 'q20', 'q25', 'q30', 'q35', 'q40', 'q45', 'q50', 'q55',\n",
      "       'q60', 'q65', 'q70', 'q75', 'q80', 'q85', 'q90', 'q95'],\n",
      "      dtype='object')\n",
      "Index(['Date', 'Hours', 'Clearing', 'Up', 'Down', 'Unnamed: 5', 'Unnamed: 6'], dtype='object')\n"
     ]
    }
   ],
   "source": [
    "# Import data for measurements and forecast made at 12:00 Day-1 :\n",
    "WindData = pd.read_excel('WindForecast_DA_12.xlsx')\n",
    "\n",
    "# Import market price data for 2017 from Nordpool :\n",
    "SpotData = pd.read_excel('DK1_2017.xlsx')\n",
    "\n",
    "# Check : Print the name of the excel file columns\n",
    "print(WindData.columns)\n",
    "print(SpotData.columns)"
   ]
  },
  {
   "cell_type": "markdown",
   "metadata": {},
   "source": [
    "#### Extract meaningful parts :"
   ]
  },
  {
   "cell_type": "code",
   "execution_count": 3,
   "metadata": {},
   "outputs": [],
   "source": [
    "# Wind power measure, in kW :\n",
    "Measure = WindData['meas']\n",
    "\n",
    "# Market clearing price, in €/MWh :\n",
    "LambdaS = SpotData['Clearing']\n",
    "\n",
    "# Extract market regulation price, in €/MWh :\n",
    "LambdaUP = SpotData['Up']\n",
    "LambdaDOWN = SpotData['Down']\n",
    "\n",
    "# Number of time units :\n",
    "L = len(Measure)"
   ]
  },
  {
   "cell_type": "markdown",
   "metadata": {},
   "source": [
    "#### Market properties :"
   ]
  },
  {
   "cell_type": "markdown",
   "metadata": {},
   "source": [
    "We build an indicator dP which will give the sign for the type of regulation needed for the market:\n",
    "\n",
    "#dP = -1 for down-regulation\n",
    "\n",
    "#dP = 1 for up-regulation\n",
    "\n",
    "#dP = 0 when the market is perfectly balanced"
   ]
  },
  {
   "cell_type": "code",
   "execution_count": 4,
   "metadata": {},
   "outputs": [],
   "source": [
    "dP = [0]*L\n",
    "for k in range (0, L, 1) :\n",
    "    lambda_up = LambdaUP[k]\n",
    "    lambda_down = LambdaDOWN[k]\n",
    "    lambdaS = LambdaS[k]\n",
    "    \n",
    "    up = lambda_up - lambdaS      # lambda_up >= lambdaS\n",
    "    down = lambdaS - lambda_down  # lambda_down <= lambdaS\n",
    "    \n",
    "    if lambda_up == lambda_down:\n",
    "        dP[k] = 0\n",
    "    elif up > down :\n",
    "        dP[k] = -1                # Need of upward regulation, negative imbalance\n",
    "    else :\n",
    "        dP[k] = 1                 # Need of downward regulation, positiv imbalance\n"
   ]
  },
  {
   "cell_type": "markdown",
   "metadata": {},
   "source": [
    "Now we can determine the balancing price LambdaB according to the market imbalance :"
   ]
  },
  {
   "cell_type": "code",
   "execution_count": 5,
   "metadata": {},
   "outputs": [],
   "source": [
    "LambdaB = [0]*L\n",
    "for k in range (0, L, 1):\n",
    "    dp = dP[k]\n",
    "    if dp < 0 :\n",
    "        LambdaB[k] = LambdaUP[k]     # Upward regulation\n",
    "    elif dp > 0 :\n",
    "        LambdaB[k] = LambdaDOWN[k]   # Downward regulation\n",
    "    else :\n",
    "        LambdaB[k] = LambdaS[k]      # Balanced Market\n"
   ]
  },
  {
   "cell_type": "markdown",
   "metadata": {},
   "source": [
    "Adapt bid and real values when the producer is not scheduled :"
   ]
  },
  {
   "cell_type": "code",
   "execution_count": 6,
   "metadata": {},
   "outputs": [],
   "source": [
    "RealBID = [0]*L\n",
    "RealMEAS = [0]*L\n",
    "\n",
    "for k in range (0,L,1):\n",
    "    if LambdaS[k] < 0:\n",
    "        RealBID[k] = 0\n",
    "        RealMEAS[k] = 0\n",
    "    else :\n",
    "        RealBID[k] = BID[k]\n",
    "        RealMEAS[k]= Measure[k]"
   ]
  },
  {
   "cell_type": "markdown",
   "metadata": {},
   "source": [
    "#### Individual imbalance :"
   ]
  },
  {
   "cell_type": "markdown",
   "metadata": {},
   "source": [
    "An indicator of the producer imbalance is defined similarly to the Market imbalance indicator dP :"
   ]
  },
  {
   "cell_type": "code",
   "execution_count": 7,
   "metadata": {},
   "outputs": [],
   "source": [
    "SURPLUS = [0]*L      # Production surplus at time t, in kW\n",
    "LACK = [0]*L         # Lack of production at time t, in kW\n",
    "IMBAL = [0]*L        # Imbalance indicator\n",
    "\n",
    "for k in range (0, L, 1) :\n",
    "    real = RealMEAS[k]\n",
    "    bid = RealBID[k]\n",
    "    \n",
    "    if real > bid :\n",
    "        IMBAL[k] = 1              # The producer produces more than forecasted, his imbalance is positiv.\n",
    "        SURPLUS[k] = real-bid\n",
    "        LACK[k] = 0\n",
    "    elif real < bid :\n",
    "        IMBAL[k] = -1             # The producer doesn't produce enough, his imbalance is negativ.\n",
    "        SURPLUS[k] = 0\n",
    "        LACK[k] = real-bid       \n",
    "    else :\n",
    "        IMBAL[k] = 0              # The production bid was exact.\n",
    "        SURPLUS[k] = 0\n",
    "        LACK[k] = 0"
   ]
  },
  {
   "cell_type": "markdown",
   "metadata": {},
   "source": [
    "#### Day Ahead Revenue :"
   ]
  },
  {
   "cell_type": "code",
   "execution_count": 8,
   "metadata": {},
   "outputs": [],
   "source": [
    "RevDA = [0]*L\n",
    "\n",
    "for k in range (0, L, 1):\n",
    "    \n",
    "    if LambdaS[k] >= 0 :\n",
    "        lambdaS = LambdaS[k]          # 0.001 factor due to conversion from MWh to kWh\n",
    "        bid = RealBID[k]\n",
    "        RevDA[k] = lambdaS*bid*0.001"
   ]
  },
  {
   "cell_type": "markdown",
   "metadata": {},
   "source": [
    "#### Balancing Market Revenue :"
   ]
  },
  {
   "cell_type": "code",
   "execution_count": 9,
   "metadata": {},
   "outputs": [],
   "source": [
    "RevB = [0]*L              # Revenue of balancing market\n",
    "LambdaREG = [0]*L         # Regulation price applied, LambdaS or LambdaB\n",
    "\n",
    "for k in range (0, L, 1):\n",
    "    real = RealMEAS[k]\n",
    "    bid = RealBID[k]\n",
    "    market_imbal = dP[k]\n",
    "    indiv_imbal = IMBAL[k]\n",
    "    \n",
    "    lambdaB = LambdaB[k]\n",
    "    lambdaS = LambdaS[k]\n",
    "    \n",
    "    # Case of upward regulation, the producer helps if he produces more than forecasted ie. his imbalance is positiv\n",
    "    if market_imbal < 0 :\n",
    "        if indiv_imbal >= 0 :\n",
    "            revB = lambdaS*(real-bid)*0.001\n",
    "            lambdaREG = lambdaS\n",
    "        else :\n",
    "            revB = lambdaB*(real-bid)*0.001\n",
    "            lambdaREG = lambdaB\n",
    "    # Case of downward regualtion, the producer helps if he produces less than forecasted ie. his imbalance is negativ\n",
    "    elif market_imbal > 0 :\n",
    "        if indiv_imbal <= 0 :\n",
    "            revB = lambdaS*(real-bid)*0.001\n",
    "            lambdaREG = lambdaS\n",
    "        else :\n",
    "            revB = lambdaB*(real-bid)*0.001\n",
    "            lambdaREG = lambdaB\n",
    "    # Case of balanced market, the producer's imbalance is not penalized :\n",
    "    else :\n",
    "        revB = lambdaS*(real-bid)*0.001\n",
    "        lambdaREG = lambdaS\n",
    "    \n",
    "    RevB[k] = revB\n",
    "    LambdaREG[k] = lambdaREG"
   ]
  },
  {
   "cell_type": "markdown",
   "metadata": {},
   "source": [
    "# Results"
   ]
  },
  {
   "cell_type": "code",
   "execution_count": 10,
   "metadata": {},
   "outputs": [
    {
     "name": "stdout",
     "output_type": "stream",
     "text": [
      "The net annual revenue is, in €:\n",
      "19151045.13385997\n",
      "Composed of a day-ahead revenue, in €:\n",
      "20564379.207590017\n",
      "and a balancing revenue, in €:\n",
      "-1413334.073729998\n"
     ]
    }
   ],
   "source": [
    "# Net revenue :\n",
    "RevNET = [0]*L\n",
    "for k in range (0,L, 1):\n",
    "    RevNET[k] = RevDA[k] + RevB[k]\n",
    "\n",
    "RevNET_annual = sum(RevNET)\n",
    "print('The net annual revenue is, in €:')\n",
    "print(RevNET_annual)\n",
    "print('Composed of a day-ahead revenue, in €:')\n",
    "print(sum(RevDA))\n",
    "print('and a balancing revenue, in €:')\n",
    "print(sum(RevB))"
   ]
  },
  {
   "cell_type": "code",
   "execution_count": 11,
   "metadata": {},
   "outputs": [
    {
     "name": "stdout",
     "output_type": "stream",
     "text": [
      "The annual real generation is, in MWh:\n",
      "708448.295\n",
      "Against a annual scheduled generation of, in MWh:\n",
      "731385.884\n"
     ]
    }
   ],
   "source": [
    "# Real generation VS scheduled generation :\n",
    "RealGene = sum(RealMEAS)*0.001\n",
    "SchedGene = sum(RealBID)*0.001\n",
    "print('The annual real generation is, in MWh:')\n",
    "print(RealGene)\n",
    "print('Against a annual scheduled generation of, in MWh:')\n",
    "print(SchedGene)"
   ]
  },
  {
   "cell_type": "code",
   "execution_count": 12,
   "metadata": {},
   "outputs": [
    {
     "name": "stdout",
     "output_type": "stream",
     "text": [
      "The global generation surplus in 2017 is, in MWh:\n",
      "72142.35800000001\n",
      "& the global generation shortage in 2017 is, in MWh:\n",
      "-95079.947\n",
      "Representing a share of the global production, in %:\n",
      "23.604023918216924\n"
     ]
    }
   ],
   "source": [
    "# Surplus VS Shortage :\n",
    "TotSurplus = sum(SURPLUS)*0.001\n",
    "TotShortage = sum(LACK)*0.001\n",
    "print('The global generation surplus in 2017 is, in MWh:')\n",
    "print(TotSurplus)\n",
    "print('& the global generation shortage in 2017 is, in MWh:')\n",
    "print(TotShortage)\n",
    "print('Representing a share of the global production, in %:')\n",
    "print(100*(TotSurplus-TotShortage)/RealGene)"
   ]
  },
  {
   "cell_type": "code",
   "execution_count": 13,
   "metadata": {},
   "outputs": [
    {
     "name": "stdout",
     "output_type": "stream",
     "text": [
      "The global shortage over the year create a opportunity loss of, in €:\n",
      "-275288.26349000033\n",
      "The global surplus over the year create a opportunity loss of, in €:\n",
      "-289077.97755999974\n",
      "Giving a global opportunity loss of, in € :\n",
      "-564366.2410500001\n"
     ]
    }
   ],
   "source": [
    "# Imbalance cost :\n",
    "\n",
    "# Cost of upward regulation, when the producer is in shortage :\n",
    "UPCOST = [0]*L\n",
    "# Revenue when downward regulation, when the producer is in surplus :\n",
    "DOWNCOST = [0]*L\n",
    "\n",
    "# Opportunity loss cost : when the producer generates less than schedule and have to buy electricity more expensive than its own : :\n",
    "OPCOST_SHORTAGE = [0]*L\n",
    "# Opportunity loss cost : when the producer generates more than schedule and sell it for <= price than lambdaS :\n",
    "OPCOST_SURPLUS = [0]*L\n",
    "\n",
    "for k in range (0,L,1):\n",
    "    UPCOST[k]=0.001*LACK[k]*LambdaREG[k]\n",
    "    DOWNCOST[k]=0.001*SURPLUS[k]*LambdaREG[k]\n",
    "    \n",
    "    OPCOST_SHORTAGE[k]=0.001*LACK[k]*(LambdaREG[k]-LambdaS[k])\n",
    "    OPCOST_SURPLUS[k]=0.001*SURPLUS[k]*(LambdaREG[k]-LambdaS[k])\n",
    "    \n",
    "print('The global shortage over the year create a opportunity loss of, in €:')\n",
    "print(sum(OPCOST_SHORTAGE))\n",
    "print('The global surplus over the year create a opportunity loss of, in €:')\n",
    "print(sum(OPCOST_SURPLUS))\n",
    "print('Giving a global opportunity loss of, in € :')\n",
    "print(sum(OPCOST_SHORTAGE)+sum(OPCOST_SURPLUS))\n",
    "\n",
    "# Just to check : The global opportunity loss should be equal to \n",
    "# the difference between the net revenue of this strategy and the ideal revenue."
   ]
  },
  {
   "cell_type": "code",
   "execution_count": 14,
   "metadata": {},
   "outputs": [
    {
     "name": "stdout",
     "output_type": "stream",
     "text": [
      "The average upward regulation price is, in €/MWh:\n",
      "34.77980090744041\n",
      "The average downward regulation price is, in €/MWh:\n",
      "26.247098178021883\n",
      "The average energy price, in €/MWh:\n",
      "27.032382276902748\n"
     ]
    }
   ],
   "source": [
    "# Average regulation prices per unit :\n",
    "  \n",
    "    # Upward and downward regulation, in €/MWh :\n",
    "avUP = sum(UPCOST)/(0.001*sum(LACK))\n",
    "avDOWN = sum(DOWNCOST)/(0.001*sum(SURPLUS))\n",
    "\n",
    "\n",
    "print('The average upward regulation price is, in €/MWh:')\n",
    "print(avUP)\n",
    "print('The average downward regulation price is, in €/MWh:')\n",
    "print(avDOWN)\n",
    "\n",
    "print('The average energy price, in €/MWh:')\n",
    "print(sum(RevNET)/RealGene)"
   ]
  },
  {
   "cell_type": "code",
   "execution_count": 15,
   "metadata": {},
   "outputs": [
    {
     "name": "stdout",
     "output_type": "stream",
     "text": [
      "The performance ratio of this strategy is:\n",
      "0.9713743613907901\n"
     ]
    }
   ],
   "source": [
    "# Performance ratio\n",
    "Perf = sum(RevNET)/19715411.37491005\n",
    "print('The performance ratio of this strategy is:')\n",
    "print(Perf)"
   ]
  },
  {
   "cell_type": "markdown",
   "metadata": {},
   "source": [
    "# Results analysis"
   ]
  },
  {
   "cell_type": "markdown",
   "metadata": {},
   "source": [
    "#### Import useful packages"
   ]
  },
  {
   "cell_type": "code",
   "execution_count": 16,
   "metadata": {},
   "outputs": [],
   "source": [
    "from matplotlib import pyplot as plt\n",
    "import numpy as np\n",
    "import math"
   ]
  },
  {
   "cell_type": "markdown",
   "metadata": {},
   "source": [
    "## Cumulative Net Revenue"
   ]
  },
  {
   "cell_type": "code",
   "execution_count": 23,
   "metadata": {},
   "outputs": [
    {
     "name": "stdout",
     "output_type": "stream",
     "text": [
      "Exported\n"
     ]
    }
   ],
   "source": [
    "CumulRevNET = [0]*L\n",
    "CumulRevNET[0] = RevNET[0]\n",
    "for k in range (1,L,1):\n",
    "    CumulRevNET[k] = CumulRevNET[k-1] + RevNET[k]\n",
    "    \n",
    "# Export all revenues data to Excel :\n",
    "    \n",
    "df2 = pd.DataFrame([RevDA, RevB, RevNET, CumulRevNET])\n",
    "df2.to_excel(\"Revenue2.xlsx\")\n",
    "print('Exported')\n"
   ]
  },
  {
   "cell_type": "markdown",
   "metadata": {},
   "source": [
    "## Forecast reliability"
   ]
  },
  {
   "cell_type": "code",
   "execution_count": 1,
   "metadata": {},
   "outputs": [
    {
     "ename": "NameError",
     "evalue": "name 'L' is not defined",
     "output_type": "error",
     "traceback": [
      "\u001b[1;31m---------------------------------------------------------------------------\u001b[0m",
      "\u001b[1;31mNameError\u001b[0m                                 Traceback (most recent call last)",
      "\u001b[1;32m<ipython-input-1-fcf8efb5cc8c>\u001b[0m in \u001b[0;36m<module>\u001b[1;34m\u001b[0m\n\u001b[1;32m----> 1\u001b[1;33m \u001b[0mERROR\u001b[0m \u001b[1;33m=\u001b[0m \u001b[1;33m[\u001b[0m\u001b[1;36m0\u001b[0m\u001b[1;33m]\u001b[0m\u001b[1;33m*\u001b[0m\u001b[0mL\u001b[0m\u001b[1;33m\u001b[0m\u001b[1;33m\u001b[0m\u001b[0m\n\u001b[0m\u001b[0;32m      2\u001b[0m \u001b[0mDeltaLAMBDA\u001b[0m \u001b[1;33m=\u001b[0m \u001b[1;33m[\u001b[0m\u001b[1;36m0\u001b[0m\u001b[1;33m]\u001b[0m\u001b[1;33m*\u001b[0m\u001b[0mL\u001b[0m                                \u001b[1;31m# Difference between clearing and applied balancing price under 2-price settlement\u001b[0m\u001b[1;33m\u001b[0m\u001b[1;33m\u001b[0m\u001b[0m\n\u001b[0;32m      3\u001b[0m \u001b[0mrelERROR\u001b[0m \u001b[1;33m=\u001b[0m \u001b[1;33m[\u001b[0m\u001b[1;36m0\u001b[0m\u001b[1;33m]\u001b[0m\u001b[1;33m*\u001b[0m\u001b[0mL\u001b[0m                                   \u001b[1;31m# Relative error with the measure\u001b[0m\u001b[1;33m\u001b[0m\u001b[1;33m\u001b[0m\u001b[0m\n\u001b[0;32m      4\u001b[0m \u001b[1;32mfor\u001b[0m \u001b[0mk\u001b[0m \u001b[1;32min\u001b[0m \u001b[0mrange\u001b[0m \u001b[1;33m(\u001b[0m\u001b[1;36m0\u001b[0m\u001b[1;33m,\u001b[0m\u001b[0mL\u001b[0m\u001b[1;33m,\u001b[0m\u001b[1;36m1\u001b[0m\u001b[1;33m)\u001b[0m\u001b[1;33m:\u001b[0m\u001b[1;33m\u001b[0m\u001b[1;33m\u001b[0m\u001b[0m\n\u001b[0;32m      5\u001b[0m     \u001b[0mERROR\u001b[0m\u001b[1;33m[\u001b[0m\u001b[0mk\u001b[0m\u001b[1;33m]\u001b[0m \u001b[1;33m=\u001b[0m \u001b[1;33m(\u001b[0m\u001b[0mSURPLUS\u001b[0m\u001b[1;33m[\u001b[0m\u001b[0mk\u001b[0m\u001b[1;33m]\u001b[0m \u001b[1;33m+\u001b[0m \u001b[0mLACK\u001b[0m\u001b[1;33m[\u001b[0m\u001b[0mk\u001b[0m\u001b[1;33m]\u001b[0m\u001b[1;33m)\u001b[0m\u001b[1;33m*\u001b[0m\u001b[1;36m0.001\u001b[0m\u001b[1;33m\u001b[0m\u001b[1;33m\u001b[0m\u001b[0m\n",
      "\u001b[1;31mNameError\u001b[0m: name 'L' is not defined"
     ]
    }
   ],
   "source": [
    "ERROR = [0]*L\n",
    "DeltaLAMBDA = [0]*L                                # Difference between clearing and applied balancing price under 2-price settlement\n",
    "relERROR = [0]*L                                   # Relative error with the measure\n",
    "for k in range (0,L,1):\n",
    "    ERROR[k] = (SURPLUS[k] + LACK[k])*0.001\n",
    "    DeltaLAMBDA[k] = LambdaREG[k] - LambdaS[k]\n",
    "    realMeas = RealMEAS[k]*0.001\n",
    "    if realMeas == 0:\n",
    "        relERROR[k] = 0\n",
    "    else:\n",
    "        relERROR [k] = ERROR[k]/realMeas\n",
    "\n",
    "relError = (sum(relERROR)/L)\n",
    "print('The medium relative forecast error is :')\n",
    "print(relError)\n"
   ]
  }
 ],
 "metadata": {
  "kernelspec": {
   "display_name": "Python 3",
   "language": "python",
   "name": "python3"
  },
  "language_info": {
   "codemirror_mode": {
    "name": "ipython",
    "version": 3
   },
   "file_extension": ".py",
   "mimetype": "text/x-python",
   "name": "python",
   "nbconvert_exporter": "python",
   "pygments_lexer": "ipython3",
   "version": "3.7.6"
  }
 },
 "nbformat": 4,
 "nbformat_minor": 4
}
