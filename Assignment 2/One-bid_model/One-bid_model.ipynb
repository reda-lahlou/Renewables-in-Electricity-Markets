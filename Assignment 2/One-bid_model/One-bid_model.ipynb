{
 "cells": [
  {
   "cell_type": "code",
   "execution_count": 73,
   "metadata": {},
   "outputs": [],
   "source": [
    "import pandas as pd\n",
    "import numpy as np\n",
    "from matplotlib import pyplot as plt"
   ]
  },
  {
   "cell_type": "markdown",
   "metadata": {},
   "source": [
    "# Format the data to pandas time series "
   ]
  },
  {
   "cell_type": "code",
   "execution_count": 74,
   "metadata": {},
   "outputs": [
    {
     "name": "stdout",
     "output_type": "stream",
     "text": [
      "         Day  Hour      l   l_up  l_down  y_wind_tot\n",
      "0 2016-01-01     0  16.39  17.00   16.39        1314\n",
      "1 2016-01-01     1  16.04  17.00   16.04        1267\n",
      "2 2016-01-01     2  15.74  15.74   15.74        1159\n",
      "3 2016-01-01     3  15.57  15.57   15.57        1160\n",
      "4 2016-01-01     4  15.47  15.47   15.47        1069\n",
      "5 2016-01-01     5  15.75  15.75   15.75        1013\n",
      "6 2016-01-01     6  15.36  15.36   15.36         881\n",
      "7 2016-01-01     7  15.37  15.37   13.01         752\n",
      "8 2016-01-01     8  15.19  15.19   13.01         578\n",
      "9 2016-01-01     9  15.39  15.39   13.01         487\n"
     ]
    }
   ],
   "source": [
    "df_2016 = pd.read_excel(\"DK1_2016_import.xlsx\")\n",
    "print(df_2016.head(10))"
   ]
  },
  {
   "cell_type": "code",
   "execution_count": 75,
   "metadata": {
    "scrolled": true
   },
   "outputs": [
    {
     "data": {
      "text/plain": [
       "Day           datetime64[ns]\n",
       "Hour                   int64\n",
       "l                    float64\n",
       "l_up                 float64\n",
       "l_down               float64\n",
       "y_wind_tot             int64\n",
       "dtype: object"
      ]
     },
     "execution_count": 75,
     "metadata": {},
     "output_type": "execute_result"
    }
   ],
   "source": [
    "#Convert day to datetime type\n",
    "pd.to_datetime(df_2016[\"Day\"])\n",
    "df_2016.dtypes"
   ]
  },
  {
   "cell_type": "code",
   "execution_count": 76,
   "metadata": {
    "scrolled": false
   },
   "outputs": [
    {
     "data": {
      "text/html": [
       "<div>\n",
       "<style scoped>\n",
       "    .dataframe tbody tr th:only-of-type {\n",
       "        vertical-align: middle;\n",
       "    }\n",
       "\n",
       "    .dataframe tbody tr th {\n",
       "        vertical-align: top;\n",
       "    }\n",
       "\n",
       "    .dataframe thead th {\n",
       "        text-align: right;\n",
       "    }\n",
       "</style>\n",
       "<table border=\"1\" class=\"dataframe\">\n",
       "  <thead>\n",
       "    <tr style=\"text-align: right;\">\n",
       "      <th></th>\n",
       "      <th>Day</th>\n",
       "      <th>Hour</th>\n",
       "      <th>l</th>\n",
       "      <th>l_up</th>\n",
       "      <th>l_down</th>\n",
       "      <th>y_wind_tot</th>\n",
       "    </tr>\n",
       "    <tr>\n",
       "      <th>Date</th>\n",
       "      <th></th>\n",
       "      <th></th>\n",
       "      <th></th>\n",
       "      <th></th>\n",
       "      <th></th>\n",
       "      <th></th>\n",
       "    </tr>\n",
       "  </thead>\n",
       "  <tbody>\n",
       "    <tr>\n",
       "      <th>2016-01-01 00:00:00</th>\n",
       "      <td>2016-01-01</td>\n",
       "      <td>0</td>\n",
       "      <td>16.39</td>\n",
       "      <td>17.00</td>\n",
       "      <td>16.39</td>\n",
       "      <td>1314</td>\n",
       "    </tr>\n",
       "    <tr>\n",
       "      <th>2016-01-01 01:00:00</th>\n",
       "      <td>2016-01-01</td>\n",
       "      <td>1</td>\n",
       "      <td>16.04</td>\n",
       "      <td>17.00</td>\n",
       "      <td>16.04</td>\n",
       "      <td>1267</td>\n",
       "    </tr>\n",
       "    <tr>\n",
       "      <th>2016-01-01 02:00:00</th>\n",
       "      <td>2016-01-01</td>\n",
       "      <td>2</td>\n",
       "      <td>15.74</td>\n",
       "      <td>15.74</td>\n",
       "      <td>15.74</td>\n",
       "      <td>1159</td>\n",
       "    </tr>\n",
       "    <tr>\n",
       "      <th>2016-01-01 03:00:00</th>\n",
       "      <td>2016-01-01</td>\n",
       "      <td>3</td>\n",
       "      <td>15.57</td>\n",
       "      <td>15.57</td>\n",
       "      <td>15.57</td>\n",
       "      <td>1160</td>\n",
       "    </tr>\n",
       "    <tr>\n",
       "      <th>2016-01-01 04:00:00</th>\n",
       "      <td>2016-01-01</td>\n",
       "      <td>4</td>\n",
       "      <td>15.47</td>\n",
       "      <td>15.47</td>\n",
       "      <td>15.47</td>\n",
       "      <td>1069</td>\n",
       "    </tr>\n",
       "    <tr>\n",
       "      <th>2016-01-01 05:00:00</th>\n",
       "      <td>2016-01-01</td>\n",
       "      <td>5</td>\n",
       "      <td>15.75</td>\n",
       "      <td>15.75</td>\n",
       "      <td>15.75</td>\n",
       "      <td>1013</td>\n",
       "    </tr>\n",
       "    <tr>\n",
       "      <th>2016-01-01 06:00:00</th>\n",
       "      <td>2016-01-01</td>\n",
       "      <td>6</td>\n",
       "      <td>15.36</td>\n",
       "      <td>15.36</td>\n",
       "      <td>15.36</td>\n",
       "      <td>881</td>\n",
       "    </tr>\n",
       "    <tr>\n",
       "      <th>2016-01-01 07:00:00</th>\n",
       "      <td>2016-01-01</td>\n",
       "      <td>7</td>\n",
       "      <td>15.37</td>\n",
       "      <td>15.37</td>\n",
       "      <td>13.01</td>\n",
       "      <td>752</td>\n",
       "    </tr>\n",
       "    <tr>\n",
       "      <th>2016-01-01 08:00:00</th>\n",
       "      <td>2016-01-01</td>\n",
       "      <td>8</td>\n",
       "      <td>15.19</td>\n",
       "      <td>15.19</td>\n",
       "      <td>13.01</td>\n",
       "      <td>578</td>\n",
       "    </tr>\n",
       "    <tr>\n",
       "      <th>2016-01-01 09:00:00</th>\n",
       "      <td>2016-01-01</td>\n",
       "      <td>9</td>\n",
       "      <td>15.39</td>\n",
       "      <td>15.39</td>\n",
       "      <td>13.01</td>\n",
       "      <td>487</td>\n",
       "    </tr>\n",
       "  </tbody>\n",
       "</table>\n",
       "</div>"
      ],
      "text/plain": [
       "                           Day  Hour      l   l_up  l_down  y_wind_tot\n",
       "Date                                                                  \n",
       "2016-01-01 00:00:00 2016-01-01     0  16.39  17.00   16.39        1314\n",
       "2016-01-01 01:00:00 2016-01-01     1  16.04  17.00   16.04        1267\n",
       "2016-01-01 02:00:00 2016-01-01     2  15.74  15.74   15.74        1159\n",
       "2016-01-01 03:00:00 2016-01-01     3  15.57  15.57   15.57        1160\n",
       "2016-01-01 04:00:00 2016-01-01     4  15.47  15.47   15.47        1069\n",
       "2016-01-01 05:00:00 2016-01-01     5  15.75  15.75   15.75        1013\n",
       "2016-01-01 06:00:00 2016-01-01     6  15.36  15.36   15.36         881\n",
       "2016-01-01 07:00:00 2016-01-01     7  15.37  15.37   13.01         752\n",
       "2016-01-01 08:00:00 2016-01-01     8  15.19  15.19   13.01         578\n",
       "2016-01-01 09:00:00 2016-01-01     9  15.39  15.39   13.01         487"
      ]
     },
     "execution_count": 76,
     "metadata": {},
     "output_type": "execute_result"
    }
   ],
   "source": [
    "#Merge day and hour into a datetime variable \"Date\"\n",
    "df_2016[\"Date\"] = df_2016[\"Day\"]+pd.to_timedelta(df_2016[\"Hour\"],unit='h')\n",
    "df_2016.set_index(\"Date\",inplace=True)\n",
    "df_2016.head(10)"
   ]
  },
  {
   "cell_type": "markdown",
   "metadata": {},
   "source": [
    "# Estimating the hourly wind production from our plant in 2016"
   ]
  },
  {
   "cell_type": "code",
   "execution_count": 77,
   "metadata": {},
   "outputs": [],
   "source": [
    "#Create column for capacity factor\n",
    "df_2016[\"C\"] = 0"
   ]
  },
  {
   "cell_type": "code",
   "execution_count": 78,
   "metadata": {},
   "outputs": [
    {
     "data": {
      "text/html": [
       "<div>\n",
       "<style scoped>\n",
       "    .dataframe tbody tr th:only-of-type {\n",
       "        vertical-align: middle;\n",
       "    }\n",
       "\n",
       "    .dataframe tbody tr th {\n",
       "        vertical-align: top;\n",
       "    }\n",
       "\n",
       "    .dataframe thead th {\n",
       "        text-align: right;\n",
       "    }\n",
       "</style>\n",
       "<table border=\"1\" class=\"dataframe\">\n",
       "  <thead>\n",
       "    <tr style=\"text-align: right;\">\n",
       "      <th></th>\n",
       "      <th>Day</th>\n",
       "      <th>Hour</th>\n",
       "      <th>l</th>\n",
       "      <th>l_up</th>\n",
       "      <th>l_down</th>\n",
       "      <th>y_wind_tot</th>\n",
       "      <th>C</th>\n",
       "    </tr>\n",
       "    <tr>\n",
       "      <th>Date</th>\n",
       "      <th></th>\n",
       "      <th></th>\n",
       "      <th></th>\n",
       "      <th></th>\n",
       "      <th></th>\n",
       "      <th></th>\n",
       "      <th></th>\n",
       "    </tr>\n",
       "  </thead>\n",
       "  <tbody>\n",
       "    <tr>\n",
       "      <th>2016-01-01 00:00:00</th>\n",
       "      <td>2016-01-01</td>\n",
       "      <td>0</td>\n",
       "      <td>16.39</td>\n",
       "      <td>17.00</td>\n",
       "      <td>16.39</td>\n",
       "      <td>1314</td>\n",
       "      <td>0</td>\n",
       "    </tr>\n",
       "    <tr>\n",
       "      <th>2016-01-01 01:00:00</th>\n",
       "      <td>2016-01-01</td>\n",
       "      <td>1</td>\n",
       "      <td>16.04</td>\n",
       "      <td>17.00</td>\n",
       "      <td>16.04</td>\n",
       "      <td>1267</td>\n",
       "      <td>0</td>\n",
       "    </tr>\n",
       "    <tr>\n",
       "      <th>2016-01-01 02:00:00</th>\n",
       "      <td>2016-01-01</td>\n",
       "      <td>2</td>\n",
       "      <td>15.74</td>\n",
       "      <td>15.74</td>\n",
       "      <td>15.74</td>\n",
       "      <td>1159</td>\n",
       "      <td>0</td>\n",
       "    </tr>\n",
       "    <tr>\n",
       "      <th>2016-01-01 03:00:00</th>\n",
       "      <td>2016-01-01</td>\n",
       "      <td>3</td>\n",
       "      <td>15.57</td>\n",
       "      <td>15.57</td>\n",
       "      <td>15.57</td>\n",
       "      <td>1160</td>\n",
       "      <td>0</td>\n",
       "    </tr>\n",
       "    <tr>\n",
       "      <th>2016-01-01 04:00:00</th>\n",
       "      <td>2016-01-01</td>\n",
       "      <td>4</td>\n",
       "      <td>15.47</td>\n",
       "      <td>15.47</td>\n",
       "      <td>15.47</td>\n",
       "      <td>1069</td>\n",
       "      <td>0</td>\n",
       "    </tr>\n",
       "    <tr>\n",
       "      <th>2016-01-01 05:00:00</th>\n",
       "      <td>2016-01-01</td>\n",
       "      <td>5</td>\n",
       "      <td>15.75</td>\n",
       "      <td>15.75</td>\n",
       "      <td>15.75</td>\n",
       "      <td>1013</td>\n",
       "      <td>0</td>\n",
       "    </tr>\n",
       "    <tr>\n",
       "      <th>2016-01-01 06:00:00</th>\n",
       "      <td>2016-01-01</td>\n",
       "      <td>6</td>\n",
       "      <td>15.36</td>\n",
       "      <td>15.36</td>\n",
       "      <td>15.36</td>\n",
       "      <td>881</td>\n",
       "      <td>0</td>\n",
       "    </tr>\n",
       "    <tr>\n",
       "      <th>2016-01-01 07:00:00</th>\n",
       "      <td>2016-01-01</td>\n",
       "      <td>7</td>\n",
       "      <td>15.37</td>\n",
       "      <td>15.37</td>\n",
       "      <td>13.01</td>\n",
       "      <td>752</td>\n",
       "      <td>0</td>\n",
       "    </tr>\n",
       "    <tr>\n",
       "      <th>2016-01-01 08:00:00</th>\n",
       "      <td>2016-01-01</td>\n",
       "      <td>8</td>\n",
       "      <td>15.19</td>\n",
       "      <td>15.19</td>\n",
       "      <td>13.01</td>\n",
       "      <td>578</td>\n",
       "      <td>0</td>\n",
       "    </tr>\n",
       "    <tr>\n",
       "      <th>2016-01-01 09:00:00</th>\n",
       "      <td>2016-01-01</td>\n",
       "      <td>9</td>\n",
       "      <td>15.39</td>\n",
       "      <td>15.39</td>\n",
       "      <td>13.01</td>\n",
       "      <td>487</td>\n",
       "      <td>0</td>\n",
       "    </tr>\n",
       "  </tbody>\n",
       "</table>\n",
       "</div>"
      ],
      "text/plain": [
       "                           Day  Hour      l   l_up  l_down  y_wind_tot  C\n",
       "Date                                                                     \n",
       "2016-01-01 00:00:00 2016-01-01     0  16.39  17.00   16.39        1314  0\n",
       "2016-01-01 01:00:00 2016-01-01     1  16.04  17.00   16.04        1267  0\n",
       "2016-01-01 02:00:00 2016-01-01     2  15.74  15.74   15.74        1159  0\n",
       "2016-01-01 03:00:00 2016-01-01     3  15.57  15.57   15.57        1160  0\n",
       "2016-01-01 04:00:00 2016-01-01     4  15.47  15.47   15.47        1069  0\n",
       "2016-01-01 05:00:00 2016-01-01     5  15.75  15.75   15.75        1013  0\n",
       "2016-01-01 06:00:00 2016-01-01     6  15.36  15.36   15.36         881  0\n",
       "2016-01-01 07:00:00 2016-01-01     7  15.37  15.37   13.01         752  0\n",
       "2016-01-01 08:00:00 2016-01-01     8  15.19  15.19   13.01         578  0\n",
       "2016-01-01 09:00:00 2016-01-01     9  15.39  15.39   13.01         487  0"
      ]
     },
     "execution_count": 78,
     "metadata": {},
     "output_type": "execute_result"
    }
   ],
   "source": [
    "df_2016.head(10)"
   ]
  },
  {
   "cell_type": "code",
   "execution_count": 79,
   "metadata": {},
   "outputs": [
    {
     "name": "stdout",
     "output_type": "stream",
     "text": [
      "The maximal energy produced from wind in DK1 is:  3401\n"
     ]
    }
   ],
   "source": [
    "#Find max wind produced\n",
    "max_y = max(df_2016[\"y_wind_tot\"])\n",
    "print(\"The maximal energy produced from wind in DK1 is: \", max_y)"
   ]
  },
  {
   "cell_type": "code",
   "execution_count": 80,
   "metadata": {},
   "outputs": [],
   "source": [
    "#Calculate capacity factor\n",
    "df_2016.loc[df_2016[\"l\"] >= 0,\"C\"] = df_2016.loc[df_2016[\"l\"] >= 0,\"y_wind_tot\"]/max_y"
   ]
  },
  {
   "cell_type": "markdown",
   "metadata": {},
   "source": [
    "To calculate this capacity factor, only the hours when the spot market price was above 0 are considered. During the rest of the hours, the price is negative, so the producer is not scheduled (as it bids at a price of 0), hence the value of 0 for its capacity factor C."
   ]
  },
  {
   "cell_type": "code",
   "execution_count": 81,
   "metadata": {
    "scrolled": true
   },
   "outputs": [
    {
     "data": {
      "text/html": [
       "<div>\n",
       "<style scoped>\n",
       "    .dataframe tbody tr th:only-of-type {\n",
       "        vertical-align: middle;\n",
       "    }\n",
       "\n",
       "    .dataframe tbody tr th {\n",
       "        vertical-align: top;\n",
       "    }\n",
       "\n",
       "    .dataframe thead th {\n",
       "        text-align: right;\n",
       "    }\n",
       "</style>\n",
       "<table border=\"1\" class=\"dataframe\">\n",
       "  <thead>\n",
       "    <tr style=\"text-align: right;\">\n",
       "      <th></th>\n",
       "      <th>Day</th>\n",
       "      <th>Hour</th>\n",
       "      <th>l</th>\n",
       "      <th>l_up</th>\n",
       "      <th>l_down</th>\n",
       "      <th>y_wind_tot</th>\n",
       "      <th>C</th>\n",
       "    </tr>\n",
       "    <tr>\n",
       "      <th>Date</th>\n",
       "      <th></th>\n",
       "      <th></th>\n",
       "      <th></th>\n",
       "      <th></th>\n",
       "      <th></th>\n",
       "      <th></th>\n",
       "      <th></th>\n",
       "    </tr>\n",
       "  </thead>\n",
       "  <tbody>\n",
       "    <tr>\n",
       "      <th>2016-01-03 01:00:00</th>\n",
       "      <td>2016-01-03</td>\n",
       "      <td>1</td>\n",
       "      <td>-0.01</td>\n",
       "      <td>-0.01</td>\n",
       "      <td>-19.44</td>\n",
       "      <td>2772</td>\n",
       "      <td>0.0</td>\n",
       "    </tr>\n",
       "    <tr>\n",
       "      <th>2016-01-30 04:00:00</th>\n",
       "      <td>2016-01-30</td>\n",
       "      <td>4</td>\n",
       "      <td>-0.02</td>\n",
       "      <td>-0.02</td>\n",
       "      <td>-0.02</td>\n",
       "      <td>2419</td>\n",
       "      <td>0.0</td>\n",
       "    </tr>\n",
       "    <tr>\n",
       "      <th>2016-01-30 05:00:00</th>\n",
       "      <td>2016-01-30</td>\n",
       "      <td>5</td>\n",
       "      <td>-0.04</td>\n",
       "      <td>-0.04</td>\n",
       "      <td>-0.04</td>\n",
       "      <td>2477</td>\n",
       "      <td>0.0</td>\n",
       "    </tr>\n",
       "    <tr>\n",
       "      <th>2016-01-30 06:00:00</th>\n",
       "      <td>2016-01-30</td>\n",
       "      <td>6</td>\n",
       "      <td>-2.97</td>\n",
       "      <td>-2.97</td>\n",
       "      <td>-2.97</td>\n",
       "      <td>2500</td>\n",
       "      <td>0.0</td>\n",
       "    </tr>\n",
       "    <tr>\n",
       "      <th>2016-01-31 04:00:00</th>\n",
       "      <td>2016-01-31</td>\n",
       "      <td>4</td>\n",
       "      <td>-0.27</td>\n",
       "      <td>-0.27</td>\n",
       "      <td>-0.27</td>\n",
       "      <td>2515</td>\n",
       "      <td>0.0</td>\n",
       "    </tr>\n",
       "    <tr>\n",
       "      <th>2016-02-02 02:00:00</th>\n",
       "      <td>2016-02-02</td>\n",
       "      <td>2</td>\n",
       "      <td>-2.66</td>\n",
       "      <td>14.90</td>\n",
       "      <td>-2.66</td>\n",
       "      <td>2715</td>\n",
       "      <td>0.0</td>\n",
       "    </tr>\n",
       "    <tr>\n",
       "      <th>2016-02-02 03:00:00</th>\n",
       "      <td>2016-02-02</td>\n",
       "      <td>3</td>\n",
       "      <td>-1.92</td>\n",
       "      <td>14.90</td>\n",
       "      <td>-1.92</td>\n",
       "      <td>2685</td>\n",
       "      <td>0.0</td>\n",
       "    </tr>\n",
       "    <tr>\n",
       "      <th>2016-02-09 00:00:00</th>\n",
       "      <td>2016-02-09</td>\n",
       "      <td>0</td>\n",
       "      <td>-2.65</td>\n",
       "      <td>16.00</td>\n",
       "      <td>-2.65</td>\n",
       "      <td>1538</td>\n",
       "      <td>0.0</td>\n",
       "    </tr>\n",
       "    <tr>\n",
       "      <th>2016-02-09 01:00:00</th>\n",
       "      <td>2016-02-09</td>\n",
       "      <td>1</td>\n",
       "      <td>-0.71</td>\n",
       "      <td>16.00</td>\n",
       "      <td>-0.71</td>\n",
       "      <td>1558</td>\n",
       "      <td>0.0</td>\n",
       "    </tr>\n",
       "    <tr>\n",
       "      <th>2016-02-09 02:00:00</th>\n",
       "      <td>2016-02-09</td>\n",
       "      <td>2</td>\n",
       "      <td>-0.73</td>\n",
       "      <td>15.68</td>\n",
       "      <td>-0.73</td>\n",
       "      <td>1612</td>\n",
       "      <td>0.0</td>\n",
       "    </tr>\n",
       "  </tbody>\n",
       "</table>\n",
       "</div>"
      ],
      "text/plain": [
       "                           Day  Hour     l   l_up  l_down  y_wind_tot    C\n",
       "Date                                                                      \n",
       "2016-01-03 01:00:00 2016-01-03     1 -0.01  -0.01  -19.44        2772  0.0\n",
       "2016-01-30 04:00:00 2016-01-30     4 -0.02  -0.02   -0.02        2419  0.0\n",
       "2016-01-30 05:00:00 2016-01-30     5 -0.04  -0.04   -0.04        2477  0.0\n",
       "2016-01-30 06:00:00 2016-01-30     6 -2.97  -2.97   -2.97        2500  0.0\n",
       "2016-01-31 04:00:00 2016-01-31     4 -0.27  -0.27   -0.27        2515  0.0\n",
       "2016-02-02 02:00:00 2016-02-02     2 -2.66  14.90   -2.66        2715  0.0\n",
       "2016-02-02 03:00:00 2016-02-02     3 -1.92  14.90   -1.92        2685  0.0\n",
       "2016-02-09 00:00:00 2016-02-09     0 -2.65  16.00   -2.65        1538  0.0\n",
       "2016-02-09 01:00:00 2016-02-09     1 -0.71  16.00   -0.71        1558  0.0\n",
       "2016-02-09 02:00:00 2016-02-09     2 -0.73  15.68   -0.73        1612  0.0"
      ]
     },
     "execution_count": 81,
     "metadata": {},
     "output_type": "execute_result"
    }
   ],
   "source": [
    "df_2016[df_2016[\"C\"]==0].head(10)"
   ]
  },
  {
   "cell_type": "code",
   "execution_count": 82,
   "metadata": {},
   "outputs": [
    {
     "data": {
      "text/html": [
       "<div>\n",
       "<style scoped>\n",
       "    .dataframe tbody tr th:only-of-type {\n",
       "        vertical-align: middle;\n",
       "    }\n",
       "\n",
       "    .dataframe tbody tr th {\n",
       "        vertical-align: top;\n",
       "    }\n",
       "\n",
       "    .dataframe thead th {\n",
       "        text-align: right;\n",
       "    }\n",
       "</style>\n",
       "<table border=\"1\" class=\"dataframe\">\n",
       "  <thead>\n",
       "    <tr style=\"text-align: right;\">\n",
       "      <th></th>\n",
       "      <th>Day</th>\n",
       "      <th>Hour</th>\n",
       "      <th>l</th>\n",
       "      <th>l_up</th>\n",
       "      <th>l_down</th>\n",
       "      <th>y_wind_tot</th>\n",
       "      <th>C</th>\n",
       "      <th>y</th>\n",
       "    </tr>\n",
       "    <tr>\n",
       "      <th>Date</th>\n",
       "      <th></th>\n",
       "      <th></th>\n",
       "      <th></th>\n",
       "      <th></th>\n",
       "      <th></th>\n",
       "      <th></th>\n",
       "      <th></th>\n",
       "      <th></th>\n",
       "    </tr>\n",
       "  </thead>\n",
       "  <tbody>\n",
       "    <tr>\n",
       "      <th>2016-01-01 00:00:00</th>\n",
       "      <td>2016-01-01</td>\n",
       "      <td>0</td>\n",
       "      <td>16.39</td>\n",
       "      <td>17.00</td>\n",
       "      <td>16.39</td>\n",
       "      <td>1314</td>\n",
       "      <td>0.386357</td>\n",
       "      <td>61.817113</td>\n",
       "    </tr>\n",
       "    <tr>\n",
       "      <th>2016-01-01 01:00:00</th>\n",
       "      <td>2016-01-01</td>\n",
       "      <td>1</td>\n",
       "      <td>16.04</td>\n",
       "      <td>17.00</td>\n",
       "      <td>16.04</td>\n",
       "      <td>1267</td>\n",
       "      <td>0.372537</td>\n",
       "      <td>59.605998</td>\n",
       "    </tr>\n",
       "    <tr>\n",
       "      <th>2016-01-01 02:00:00</th>\n",
       "      <td>2016-01-01</td>\n",
       "      <td>2</td>\n",
       "      <td>15.74</td>\n",
       "      <td>15.74</td>\n",
       "      <td>15.74</td>\n",
       "      <td>1159</td>\n",
       "      <td>0.340782</td>\n",
       "      <td>54.525140</td>\n",
       "    </tr>\n",
       "    <tr>\n",
       "      <th>2016-01-01 03:00:00</th>\n",
       "      <td>2016-01-01</td>\n",
       "      <td>3</td>\n",
       "      <td>15.57</td>\n",
       "      <td>15.57</td>\n",
       "      <td>15.57</td>\n",
       "      <td>1160</td>\n",
       "      <td>0.341076</td>\n",
       "      <td>54.572185</td>\n",
       "    </tr>\n",
       "    <tr>\n",
       "      <th>2016-01-01 04:00:00</th>\n",
       "      <td>2016-01-01</td>\n",
       "      <td>4</td>\n",
       "      <td>15.47</td>\n",
       "      <td>15.47</td>\n",
       "      <td>15.47</td>\n",
       "      <td>1069</td>\n",
       "      <td>0.314319</td>\n",
       "      <td>50.291091</td>\n",
       "    </tr>\n",
       "    <tr>\n",
       "      <th>2016-01-01 05:00:00</th>\n",
       "      <td>2016-01-01</td>\n",
       "      <td>5</td>\n",
       "      <td>15.75</td>\n",
       "      <td>15.75</td>\n",
       "      <td>15.75</td>\n",
       "      <td>1013</td>\n",
       "      <td>0.297854</td>\n",
       "      <td>47.656572</td>\n",
       "    </tr>\n",
       "    <tr>\n",
       "      <th>2016-01-01 06:00:00</th>\n",
       "      <td>2016-01-01</td>\n",
       "      <td>6</td>\n",
       "      <td>15.36</td>\n",
       "      <td>15.36</td>\n",
       "      <td>15.36</td>\n",
       "      <td>881</td>\n",
       "      <td>0.259041</td>\n",
       "      <td>41.446633</td>\n",
       "    </tr>\n",
       "    <tr>\n",
       "      <th>2016-01-01 07:00:00</th>\n",
       "      <td>2016-01-01</td>\n",
       "      <td>7</td>\n",
       "      <td>15.37</td>\n",
       "      <td>15.37</td>\n",
       "      <td>13.01</td>\n",
       "      <td>752</td>\n",
       "      <td>0.221111</td>\n",
       "      <td>35.377830</td>\n",
       "    </tr>\n",
       "    <tr>\n",
       "      <th>2016-01-01 08:00:00</th>\n",
       "      <td>2016-01-01</td>\n",
       "      <td>8</td>\n",
       "      <td>15.19</td>\n",
       "      <td>15.19</td>\n",
       "      <td>13.01</td>\n",
       "      <td>578</td>\n",
       "      <td>0.169950</td>\n",
       "      <td>27.192002</td>\n",
       "    </tr>\n",
       "    <tr>\n",
       "      <th>2016-01-01 09:00:00</th>\n",
       "      <td>2016-01-01</td>\n",
       "      <td>9</td>\n",
       "      <td>15.39</td>\n",
       "      <td>15.39</td>\n",
       "      <td>13.01</td>\n",
       "      <td>487</td>\n",
       "      <td>0.143193</td>\n",
       "      <td>22.910909</td>\n",
       "    </tr>\n",
       "  </tbody>\n",
       "</table>\n",
       "</div>"
      ],
      "text/plain": [
       "                           Day  Hour      l   l_up  l_down  y_wind_tot  \\\n",
       "Date                                                                     \n",
       "2016-01-01 00:00:00 2016-01-01     0  16.39  17.00   16.39        1314   \n",
       "2016-01-01 01:00:00 2016-01-01     1  16.04  17.00   16.04        1267   \n",
       "2016-01-01 02:00:00 2016-01-01     2  15.74  15.74   15.74        1159   \n",
       "2016-01-01 03:00:00 2016-01-01     3  15.57  15.57   15.57        1160   \n",
       "2016-01-01 04:00:00 2016-01-01     4  15.47  15.47   15.47        1069   \n",
       "2016-01-01 05:00:00 2016-01-01     5  15.75  15.75   15.75        1013   \n",
       "2016-01-01 06:00:00 2016-01-01     6  15.36  15.36   15.36         881   \n",
       "2016-01-01 07:00:00 2016-01-01     7  15.37  15.37   13.01         752   \n",
       "2016-01-01 08:00:00 2016-01-01     8  15.19  15.19   13.01         578   \n",
       "2016-01-01 09:00:00 2016-01-01     9  15.39  15.39   13.01         487   \n",
       "\n",
       "                            C          y  \n",
       "Date                                      \n",
       "2016-01-01 00:00:00  0.386357  61.817113  \n",
       "2016-01-01 01:00:00  0.372537  59.605998  \n",
       "2016-01-01 02:00:00  0.340782  54.525140  \n",
       "2016-01-01 03:00:00  0.341076  54.572185  \n",
       "2016-01-01 04:00:00  0.314319  50.291091  \n",
       "2016-01-01 05:00:00  0.297854  47.656572  \n",
       "2016-01-01 06:00:00  0.259041  41.446633  \n",
       "2016-01-01 07:00:00  0.221111  35.377830  \n",
       "2016-01-01 08:00:00  0.169950  27.192002  \n",
       "2016-01-01 09:00:00  0.143193  22.910909  "
      ]
     },
     "execution_count": 82,
     "metadata": {},
     "output_type": "execute_result"
    }
   ],
   "source": [
    "#Calculate estimated production from our wind power plant\n",
    "y_max = 160\n",
    "df_2016[\"y\"]=df_2016[\"C\"]*y_max\n",
    "df_2016.head(10)"
   ]
  },
  {
   "cell_type": "markdown",
   "metadata": {},
   "source": [
    "# Determining the revenues from the markets in 2016"
   ]
  },
  {
   "cell_type": "markdown",
   "metadata": {},
   "source": [
    "To determine the revenues from the markets, we need to know the balancing state of the whole system at each time unit:"
   ]
  },
  {
   "cell_type": "code",
   "execution_count": 83,
   "metadata": {},
   "outputs": [],
   "source": [
    "df_2016.loc[df_2016[\"l_up\"]==df_2016[\"l_down\"],\"dP\"]=0\n",
    "df_2016.loc[df_2016[\"l_up\"]-df_2016[\"l\"]>=df_2016[\"l\"]-df_2016[\"l_down\"],\"dP\"]=-1\n",
    "df_2016.loc[df_2016[\"l_up\"]-df_2016[\"l\"]<df_2016[\"l\"]-df_2016[\"l_down\"],\"dP\"]=1"
   ]
  },
  {
   "cell_type": "code",
   "execution_count": 84,
   "metadata": {},
   "outputs": [
    {
     "data": {
      "text/html": [
       "<div>\n",
       "<style scoped>\n",
       "    .dataframe tbody tr th:only-of-type {\n",
       "        vertical-align: middle;\n",
       "    }\n",
       "\n",
       "    .dataframe tbody tr th {\n",
       "        vertical-align: top;\n",
       "    }\n",
       "\n",
       "    .dataframe thead th {\n",
       "        text-align: right;\n",
       "    }\n",
       "</style>\n",
       "<table border=\"1\" class=\"dataframe\">\n",
       "  <thead>\n",
       "    <tr style=\"text-align: right;\">\n",
       "      <th></th>\n",
       "      <th>Day</th>\n",
       "      <th>Hour</th>\n",
       "      <th>l</th>\n",
       "      <th>l_up</th>\n",
       "      <th>l_down</th>\n",
       "      <th>y_wind_tot</th>\n",
       "      <th>C</th>\n",
       "      <th>y</th>\n",
       "      <th>dP</th>\n",
       "    </tr>\n",
       "    <tr>\n",
       "      <th>Date</th>\n",
       "      <th></th>\n",
       "      <th></th>\n",
       "      <th></th>\n",
       "      <th></th>\n",
       "      <th></th>\n",
       "      <th></th>\n",
       "      <th></th>\n",
       "      <th></th>\n",
       "      <th></th>\n",
       "    </tr>\n",
       "  </thead>\n",
       "  <tbody>\n",
       "    <tr>\n",
       "      <th>2016-01-01 00:00:00</th>\n",
       "      <td>2016-01-01</td>\n",
       "      <td>0</td>\n",
       "      <td>16.39</td>\n",
       "      <td>17.00</td>\n",
       "      <td>16.39</td>\n",
       "      <td>1314</td>\n",
       "      <td>0.386357</td>\n",
       "      <td>61.817113</td>\n",
       "      <td>-1.0</td>\n",
       "    </tr>\n",
       "    <tr>\n",
       "      <th>2016-01-01 01:00:00</th>\n",
       "      <td>2016-01-01</td>\n",
       "      <td>1</td>\n",
       "      <td>16.04</td>\n",
       "      <td>17.00</td>\n",
       "      <td>16.04</td>\n",
       "      <td>1267</td>\n",
       "      <td>0.372537</td>\n",
       "      <td>59.605998</td>\n",
       "      <td>-1.0</td>\n",
       "    </tr>\n",
       "    <tr>\n",
       "      <th>2016-01-01 02:00:00</th>\n",
       "      <td>2016-01-01</td>\n",
       "      <td>2</td>\n",
       "      <td>15.74</td>\n",
       "      <td>15.74</td>\n",
       "      <td>15.74</td>\n",
       "      <td>1159</td>\n",
       "      <td>0.340782</td>\n",
       "      <td>54.525140</td>\n",
       "      <td>-1.0</td>\n",
       "    </tr>\n",
       "    <tr>\n",
       "      <th>2016-01-01 03:00:00</th>\n",
       "      <td>2016-01-01</td>\n",
       "      <td>3</td>\n",
       "      <td>15.57</td>\n",
       "      <td>15.57</td>\n",
       "      <td>15.57</td>\n",
       "      <td>1160</td>\n",
       "      <td>0.341076</td>\n",
       "      <td>54.572185</td>\n",
       "      <td>-1.0</td>\n",
       "    </tr>\n",
       "    <tr>\n",
       "      <th>2016-01-01 04:00:00</th>\n",
       "      <td>2016-01-01</td>\n",
       "      <td>4</td>\n",
       "      <td>15.47</td>\n",
       "      <td>15.47</td>\n",
       "      <td>15.47</td>\n",
       "      <td>1069</td>\n",
       "      <td>0.314319</td>\n",
       "      <td>50.291091</td>\n",
       "      <td>-1.0</td>\n",
       "    </tr>\n",
       "    <tr>\n",
       "      <th>2016-01-01 05:00:00</th>\n",
       "      <td>2016-01-01</td>\n",
       "      <td>5</td>\n",
       "      <td>15.75</td>\n",
       "      <td>15.75</td>\n",
       "      <td>15.75</td>\n",
       "      <td>1013</td>\n",
       "      <td>0.297854</td>\n",
       "      <td>47.656572</td>\n",
       "      <td>-1.0</td>\n",
       "    </tr>\n",
       "    <tr>\n",
       "      <th>2016-01-01 06:00:00</th>\n",
       "      <td>2016-01-01</td>\n",
       "      <td>6</td>\n",
       "      <td>15.36</td>\n",
       "      <td>15.36</td>\n",
       "      <td>15.36</td>\n",
       "      <td>881</td>\n",
       "      <td>0.259041</td>\n",
       "      <td>41.446633</td>\n",
       "      <td>-1.0</td>\n",
       "    </tr>\n",
       "    <tr>\n",
       "      <th>2016-01-01 07:00:00</th>\n",
       "      <td>2016-01-01</td>\n",
       "      <td>7</td>\n",
       "      <td>15.37</td>\n",
       "      <td>15.37</td>\n",
       "      <td>13.01</td>\n",
       "      <td>752</td>\n",
       "      <td>0.221111</td>\n",
       "      <td>35.377830</td>\n",
       "      <td>1.0</td>\n",
       "    </tr>\n",
       "    <tr>\n",
       "      <th>2016-01-01 08:00:00</th>\n",
       "      <td>2016-01-01</td>\n",
       "      <td>8</td>\n",
       "      <td>15.19</td>\n",
       "      <td>15.19</td>\n",
       "      <td>13.01</td>\n",
       "      <td>578</td>\n",
       "      <td>0.169950</td>\n",
       "      <td>27.192002</td>\n",
       "      <td>1.0</td>\n",
       "    </tr>\n",
       "    <tr>\n",
       "      <th>2016-01-01 09:00:00</th>\n",
       "      <td>2016-01-01</td>\n",
       "      <td>9</td>\n",
       "      <td>15.39</td>\n",
       "      <td>15.39</td>\n",
       "      <td>13.01</td>\n",
       "      <td>487</td>\n",
       "      <td>0.143193</td>\n",
       "      <td>22.910909</td>\n",
       "      <td>1.0</td>\n",
       "    </tr>\n",
       "  </tbody>\n",
       "</table>\n",
       "</div>"
      ],
      "text/plain": [
       "                           Day  Hour      l   l_up  l_down  y_wind_tot  \\\n",
       "Date                                                                     \n",
       "2016-01-01 00:00:00 2016-01-01     0  16.39  17.00   16.39        1314   \n",
       "2016-01-01 01:00:00 2016-01-01     1  16.04  17.00   16.04        1267   \n",
       "2016-01-01 02:00:00 2016-01-01     2  15.74  15.74   15.74        1159   \n",
       "2016-01-01 03:00:00 2016-01-01     3  15.57  15.57   15.57        1160   \n",
       "2016-01-01 04:00:00 2016-01-01     4  15.47  15.47   15.47        1069   \n",
       "2016-01-01 05:00:00 2016-01-01     5  15.75  15.75   15.75        1013   \n",
       "2016-01-01 06:00:00 2016-01-01     6  15.36  15.36   15.36         881   \n",
       "2016-01-01 07:00:00 2016-01-01     7  15.37  15.37   13.01         752   \n",
       "2016-01-01 08:00:00 2016-01-01     8  15.19  15.19   13.01         578   \n",
       "2016-01-01 09:00:00 2016-01-01     9  15.39  15.39   13.01         487   \n",
       "\n",
       "                            C          y   dP  \n",
       "Date                                           \n",
       "2016-01-01 00:00:00  0.386357  61.817113 -1.0  \n",
       "2016-01-01 01:00:00  0.372537  59.605998 -1.0  \n",
       "2016-01-01 02:00:00  0.340782  54.525140 -1.0  \n",
       "2016-01-01 03:00:00  0.341076  54.572185 -1.0  \n",
       "2016-01-01 04:00:00  0.314319  50.291091 -1.0  \n",
       "2016-01-01 05:00:00  0.297854  47.656572 -1.0  \n",
       "2016-01-01 06:00:00  0.259041  41.446633 -1.0  \n",
       "2016-01-01 07:00:00  0.221111  35.377830  1.0  \n",
       "2016-01-01 08:00:00  0.169950  27.192002  1.0  \n",
       "2016-01-01 09:00:00  0.143193  22.910909  1.0  "
      ]
     },
     "execution_count": 84,
     "metadata": {},
     "output_type": "execute_result"
    }
   ],
   "source": [
    "#Check the df\n",
    "df_2016.head(10)"
   ]
  },
  {
   "cell_type": "code",
   "execution_count": 85,
   "metadata": {},
   "outputs": [
    {
     "data": {
      "text/html": [
       "<div>\n",
       "<style scoped>\n",
       "    .dataframe tbody tr th:only-of-type {\n",
       "        vertical-align: middle;\n",
       "    }\n",
       "\n",
       "    .dataframe tbody tr th {\n",
       "        vertical-align: top;\n",
       "    }\n",
       "\n",
       "    .dataframe thead th {\n",
       "        text-align: right;\n",
       "    }\n",
       "</style>\n",
       "<table border=\"1\" class=\"dataframe\">\n",
       "  <thead>\n",
       "    <tr style=\"text-align: right;\">\n",
       "      <th></th>\n",
       "      <th>Day</th>\n",
       "      <th>Hour</th>\n",
       "      <th>l</th>\n",
       "      <th>l_up</th>\n",
       "      <th>l_down</th>\n",
       "      <th>y_wind_tot</th>\n",
       "      <th>C</th>\n",
       "      <th>y</th>\n",
       "      <th>dP</th>\n",
       "    </tr>\n",
       "    <tr>\n",
       "      <th>Date</th>\n",
       "      <th></th>\n",
       "      <th></th>\n",
       "      <th></th>\n",
       "      <th></th>\n",
       "      <th></th>\n",
       "      <th></th>\n",
       "      <th></th>\n",
       "      <th></th>\n",
       "      <th></th>\n",
       "    </tr>\n",
       "  </thead>\n",
       "  <tbody>\n",
       "  </tbody>\n",
       "</table>\n",
       "</div>"
      ],
      "text/plain": [
       "Empty DataFrame\n",
       "Columns: [Day, Hour, l, l_up, l_down, y_wind_tot, C, y, dP]\n",
       "Index: []"
      ]
     },
     "execution_count": 85,
     "metadata": {},
     "output_type": "execute_result"
    }
   ],
   "source": [
    "#Check if there are NAs\n",
    "df_2016.loc[df_2016[\"dP\"].isnull()]"
   ]
  },
  {
   "cell_type": "code",
   "execution_count": 86,
   "metadata": {},
   "outputs": [],
   "source": [
    "def revenues(bid,df):\n",
    "    #Calculates total revenues (day-ahead+balance) in 2016 when bidding at a constant value bid\n",
    "\n",
    "    df[\"rDA\"]=bid*df[\"l\"]\n",
    "\n",
    "    bal = df[\"dP\"]==0            #No system inbalance\n",
    "    df.loc[bal,\"rB\"] = 0      #No revenue from balancing market\n",
    "\n",
    "    neg_neg = (bid>df[\"y\"])&(df[\"dP\"]==-1)     #Both consumers and producers have negative inbalance\n",
    "    df.loc[neg_neg,\"rB\"] = -(bid-df.loc[neg_neg,\"y\"])*df.loc[neg_neg,\"l_up\"]     # Consumer penalized\n",
    "\n",
    "    neg_pos = (bid>df[\"y\"])&(df[\"dP\"]>=0)      #Consumer has negative inbalance but system has positive or no inbalance \n",
    "    df.loc[neg_pos,\"rB\"] = -(bid-df.loc[neg_pos,\"y\"])*df.loc[neg_pos,\"l\"]     # Consumer not penalized\n",
    "\n",
    "    pos_pos = (bid<df[\"y\"])&(df[\"dP\"]==1)      #Both consumers and producers have positive inbalance\n",
    "    df.loc[pos_pos,\"rB\"] = (df.loc[pos_pos,\"y\"]-bid)*df.loc[pos_pos,\"l_down\"]     # Consumer penalized\n",
    "\n",
    "    pos_neg = (bid<df[\"y\"])&(df[\"dP\"]<=0)      #Consumer has positive inbalance but system has negative or no inbalance\n",
    "    df.loc[pos_neg,\"rB\"] = (df.loc[pos_neg,\"y\"]-bid)*df.loc[pos_neg,\"l\"]     # Consumer not penalized\n",
    "\n",
    "    rDA_tot = sum(df[\"rDA\"])\n",
    "    rB_tot = sum(df[\"rB\"])\n",
    "    r_tot = rDA_tot+rB_tot\n",
    "    return(r_tot)"
   ]
  },
  {
   "cell_type": "markdown",
   "metadata": {},
   "source": [
    "Our producer bids at its marginal costs, i.e. at 0. This means that when the spot market price is below 0, we are not scheduled - and we don't get any revenues from any of the markets. To account for this in the calculation of the revenues, a new dataframe df_2016_sch is created with only the hours when we are scheduled."
   ]
  },
  {
   "cell_type": "code",
   "execution_count": 87,
   "metadata": {},
   "outputs": [],
   "source": [
    "#Dataframe with only the hours when we are scheduled (i.e when the market price is positive)\n",
    "df_2016_sch = df_2016.loc[df_2016[\"l\"]>=0]"
   ]
  },
  {
   "cell_type": "code",
   "execution_count": 88,
   "metadata": {},
   "outputs": [
    {
     "name": "stdout",
     "output_type": "stream",
     "text": [
      "df_2016: (8784, 9) df_2016_sch: (8722, 9)\n"
     ]
    }
   ],
   "source": [
    "print(\"df_2016:\",df_2016.shape,\"df_2016_sch:\",df_2016_sch.shape)"
   ]
  },
  {
   "cell_type": "code",
   "execution_count": 89,
   "metadata": {},
   "outputs": [
    {
     "name": "stderr",
     "output_type": "stream",
     "text": [
      "C:\\Users\\rlahl\\Anaconda3\\lib\\site-packages\\ipykernel_launcher.py:4: SettingWithCopyWarning: \n",
      "A value is trying to be set on a copy of a slice from a DataFrame.\n",
      "Try using .loc[row_indexer,col_indexer] = value instead\n",
      "\n",
      "See the caveats in the documentation: http://pandas.pydata.org/pandas-docs/stable/indexing.html#indexing-view-versus-copy\n",
      "  after removing the cwd from sys.path.\n",
      "C:\\Users\\rlahl\\Anaconda3\\lib\\site-packages\\pandas\\core\\indexing.py:362: SettingWithCopyWarning: \n",
      "A value is trying to be set on a copy of a slice from a DataFrame.\n",
      "Try using .loc[row_indexer,col_indexer] = value instead\n",
      "\n",
      "See the caveats in the documentation: http://pandas.pydata.org/pandas-docs/stable/indexing.html#indexing-view-versus-copy\n",
      "  self.obj[key] = _infer_fill_value(value)\n",
      "C:\\Users\\rlahl\\Anaconda3\\lib\\site-packages\\pandas\\core\\indexing.py:543: SettingWithCopyWarning: \n",
      "A value is trying to be set on a copy of a slice from a DataFrame.\n",
      "Try using .loc[row_indexer,col_indexer] = value instead\n",
      "\n",
      "See the caveats in the documentation: http://pandas.pydata.org/pandas-docs/stable/indexing.html#indexing-view-versus-copy\n",
      "  self.obj[item] = s\n"
     ]
    },
    {
     "data": {
      "text/plain": [
       "9825026.49626581"
      ]
     },
     "execution_count": 89,
     "metadata": {},
     "output_type": "execute_result"
    }
   ],
   "source": [
    "#Example\n",
    "revenues(30,df_2016_sch)"
   ]
  },
  {
   "cell_type": "markdown",
   "metadata": {},
   "source": [
    "# Finding the optimal bid"
   ]
  },
  {
   "cell_type": "code",
   "execution_count": 90,
   "metadata": {},
   "outputs": [
    {
     "name": "stderr",
     "output_type": "stream",
     "text": [
      "C:\\Users\\rlahl\\Anaconda3\\lib\\site-packages\\ipykernel_launcher.py:4: SettingWithCopyWarning: \n",
      "A value is trying to be set on a copy of a slice from a DataFrame.\n",
      "Try using .loc[row_indexer,col_indexer] = value instead\n",
      "\n",
      "See the caveats in the documentation: http://pandas.pydata.org/pandas-docs/stable/indexing.html#indexing-view-versus-copy\n",
      "  after removing the cwd from sys.path.\n"
     ]
    }
   ],
   "source": [
    "#Revenues depending on bid (WARNING: Takes some time (approx 10sec on my computer))\n",
    "list_rev = list()\n",
    "list_bid = [i for i in range(0,160)]\n",
    "for i in range(0,160):\n",
    "    list_rev.append(revenues(i,df_2016_sch))"
   ]
  },
  {
   "cell_type": "code",
   "execution_count": 91,
   "metadata": {},
   "outputs": [],
   "source": [
    "#Export to excel\n",
    "df_rev = pd.DataFrame({\"Bid\": list_bid, \"Revenues\": list_rev})\n",
    "#df_rev.to_csv(\"revenues_s1.csv\", sep=',',index=False)"
   ]
  },
  {
   "cell_type": "code",
   "execution_count": 92,
   "metadata": {
    "scrolled": false
   },
   "outputs": [
    {
     "data": {
      "text/plain": [
       "[<matplotlib.lines.Line2D at 0x2c14f97a710>]"
      ]
     },
     "execution_count": 92,
     "metadata": {},
     "output_type": "execute_result"
    },
    {
     "data": {
      "image/png": "[encoded data removed]",
      "text/plain": [
       "<Figure size 432x288 with 1 Axes>"
      ]
     },
     "metadata": {
      "needs_background": "light"
     },
     "output_type": "display_data"
    }
   ],
   "source": [
    "plt.plot(list_bid,list_rev)"
   ]
  },
  {
   "cell_type": "code",
   "execution_count": 93,
   "metadata": {},
   "outputs": [
    {
     "name": "stdout",
     "output_type": "stream",
     "text": [
      "The maximal revenue is:  9924105.908967936\n"
     ]
    }
   ],
   "source": [
    "max_rev = max(df_rev[\"Revenues\"])\n",
    "print(\"The maximal revenue is: \", max_rev)"
   ]
  },
  {
   "cell_type": "code",
   "execution_count": 94,
   "metadata": {},
   "outputs": [
    {
     "name": "stdout",
     "output_type": "stream",
     "text": [
      "The optimal bid is:  54\n"
     ]
    }
   ],
   "source": [
    "bid_opt = df_rev.loc[df_rev[\"Revenues\"]==max_rev][\"Bid\"]\n",
    "print(\"The optimal bid is: \", bid_opt.values[0])"
   ]
  },
  {
   "cell_type": "markdown",
   "metadata": {},
   "source": [
    "# Results analysis"
   ]
  },
  {
   "cell_type": "code",
   "execution_count": 95,
   "metadata": {
    "scrolled": true
   },
   "outputs": [
    {
     "name": "stdout",
     "output_type": "stream",
     "text": [
      "The mean value of energy produced by our producer is: 50.0\n"
     ]
    },
    {
     "data": {
      "image/png": "[encoded data removed]",
      "text/plain": [
       "<Figure size 432x288 with 1 Axes>"
      ]
     },
     "metadata": {
      "needs_background": "light"
     },
     "output_type": "display_data"
    }
   ],
   "source": [
    "df_2016_sch.boxplot(column=\"y\",)\n",
    "mean_y = df_2016_sch[\"y\"].sum()//len(df_2016_sch[\"y\"])\n",
    "print(\"The mean value of energy produced by our producer is:\", mean_y)"
   ]
  },
  {
   "cell_type": "markdown",
   "metadata": {},
   "source": [
    "It can be seen that the optimal bid (54 MWh) is higher than both the median and the mean of the hourly energy produced. This means that, in general, it is more beneficial for the producer to bid higher than what it produces."
   ]
  },
  {
   "cell_type": "code",
   "execution_count": 96,
   "metadata": {},
   "outputs": [
    {
     "name": "stdout",
     "output_type": "stream",
     "text": [
      "Index(['day', 'hour', 'dato', 'dati', 'ForeTime', 'hors', 'meas', 'fore', 'q5',\n",
      "       'q10', 'q15', 'q20', 'q25', 'q30', 'q35', 'q40', 'q45', 'q50', 'q55',\n",
      "       'q60', 'q65', 'q70', 'q75', 'q80', 'q85', 'q90', 'q95'],\n",
      "      dtype='object')\n"
     ]
    }
   ],
   "source": [
    "# In my example the bidding quantity are taken from the Wind Data :\n",
    "BidData = pd.read_excel('WindForecast_DA_12.xlsx')\n",
    "print(BidData.columns)                                         # To check the import"
   ]
  },
  {
   "cell_type": "markdown",
   "metadata": {},
   "source": [
    "# Calculation code :"
   ]
  },
  {
   "cell_type": "markdown",
   "metadata": {},
   "source": [
    "### Data :"
   ]
  },
  {
   "cell_type": "markdown",
   "metadata": {},
   "source": [
    "#### Import Data :"
   ]
  },
  {
   "cell_type": "code",
   "execution_count": 97,
   "metadata": {},
   "outputs": [
    {
     "name": "stdout",
     "output_type": "stream",
     "text": [
      "Index(['day', 'hour', 'dato', 'dati', 'ForeTime', 'hors', 'meas', 'fore', 'q5',\n",
      "       'q10', 'q15', 'q20', 'q25', 'q30', 'q35', 'q40', 'q45', 'q50', 'q55',\n",
      "       'q60', 'q65', 'q70', 'q75', 'q80', 'q85', 'q90', 'q95'],\n",
      "      dtype='object')\n",
      "Index(['Unnamed: 0', 'Hours', 'Clearing', 'Up', 'Down'], dtype='object')\n"
     ]
    }
   ],
   "source": [
    "# Import data for measurements and forecast made at 12:00 Day-1 :\n",
    "WindData = pd.read_excel('WindForecast_DA_12.xlsx')\n",
    "\n",
    "# Import market price data for 2017 from Nordpool :\n",
    "SpotData = pd.read_excel('DK1_2017.xlsx')\n",
    "\n",
    "# Check : Print the name of the excel file columns\n",
    "print(WindData.columns)\n",
    "print(SpotData.columns)"
   ]
  },
  {
   "cell_type": "markdown",
   "metadata": {},
   "source": [
    "#### Extract meaningful parts :"
   ]
  },
  {
   "cell_type": "code",
   "execution_count": 98,
   "metadata": {},
   "outputs": [],
   "source": [
    "# Wind power measure, in kW :\n",
    "Measure = WindData['meas']\n",
    "\n",
    "# Market clearing price, in €/MWh :\n",
    "LambdaS = SpotData['Clearing']\n",
    "\n",
    "# Extract market regulation price, in €/MWh :\n",
    "LambdaUP = SpotData['Up']\n",
    "LambdaDOWN = SpotData['Down']\n",
    "\n",
    "# Number of time units :\n",
    "L = len(Measure)"
   ]
  },
  {
   "cell_type": "markdown",
   "metadata": {},
   "source": [
    "### Bid for strategy 1"
   ]
  },
  {
   "cell_type": "code",
   "execution_count": 99,
   "metadata": {},
   "outputs": [],
   "source": [
    "BID = [54000]*L"
   ]
  },
  {
   "cell_type": "markdown",
   "metadata": {},
   "source": [
    "#### Market properties :"
   ]
  },
  {
   "cell_type": "markdown",
   "metadata": {},
   "source": [
    "We build an indicator dP which will give the sign for the type of regulation needed for the market:\n",
    "\n",
    "#dP = -1 for down-regulation\n",
    "\n",
    "#dP = 1 for up-regulation\n",
    "\n",
    "#dP = 0 when the market is perfectly balanced"
   ]
  },
  {
   "cell_type": "code",
   "execution_count": 100,
   "metadata": {},
   "outputs": [],
   "source": [
    "dP = [0]*L\n",
    "for k in range (0, L, 1) :\n",
    "    lambda_up = LambdaUP[k]\n",
    "    lambda_down = LambdaDOWN[k]\n",
    "    lambdaS = LambdaS[k]\n",
    "    \n",
    "    up = lambda_up - lambdaS      # lambda_up >= lambdaS\n",
    "    down = lambdaS - lambda_down  # lambda_down <= lambdaS\n",
    "    \n",
    "    if lambda_up == lambda_down:\n",
    "        dP[k] = 0\n",
    "    elif up > down :\n",
    "        dP[k] = -1                # Need of upward regulation, negative imbalance\n",
    "    else :\n",
    "        dP[k] = 1                 # Need of downward regulation, positiv imbalance\n"
   ]
  },
  {
   "cell_type": "markdown",
   "metadata": {},
   "source": [
    "Now we can determine the balancing price LambdaB according to the market imbalance :"
   ]
  },
  {
   "cell_type": "code",
   "execution_count": 101,
   "metadata": {},
   "outputs": [],
   "source": [
    "LambdaB = [0]*L\n",
    "for k in range (0, L, 1):\n",
    "    dp = dP[k]\n",
    "    if dp < 0 :\n",
    "        LambdaB[k] = LambdaUP[k]     # Upward regulation\n",
    "    elif dp > 0 :\n",
    "        LambdaB[k] = LambdaDOWN[k]   # Downward regulation\n",
    "    else :\n",
    "        LambdaB[k] = LambdaS[k]      # Balanced Market\n"
   ]
  },
  {
   "cell_type": "markdown",
   "metadata": {},
   "source": [
    "Adapt bid and real values when the producer is not scheduled :"
   ]
  },
  {
   "cell_type": "code",
   "execution_count": 102,
   "metadata": {},
   "outputs": [],
   "source": [
    "RealBID = [0]*L\n",
    "RealMEAS = [0]*L\n",
    "\n",
    "for k in range (0,L,1):\n",
    "    if LambdaS[k] < 0:\n",
    "        RealBID[k] = 0\n",
    "        RealMEAS[k] = 0\n",
    "    else :\n",
    "        RealBID[k] = BID[k]\n",
    "        RealMEAS[k]= Measure[k]"
   ]
  },
  {
   "cell_type": "markdown",
   "metadata": {},
   "source": [
    "#### Individual imbalance :"
   ]
  },
  {
   "cell_type": "markdown",
   "metadata": {},
   "source": [
    "An indicator of the producer imbalance is defined similarly to the Market imbalance indicator dP :"
   ]
  },
  {
   "cell_type": "code",
   "execution_count": 103,
   "metadata": {},
   "outputs": [],
   "source": [
    "SURPLUS = [0]*L      # Production surplus at time t, in kW\n",
    "LACK = [0]*L         # Lack of production at time t, in kW\n",
    "IMBAL = [0]*L        # Imbalance indicator\n",
    "\n",
    "for k in range (0, L, 1) :\n",
    "    real = RealMEAS[k]\n",
    "    bid = RealBID[k]\n",
    "    \n",
    "    if real > bid :\n",
    "        IMBAL[k] = 1              # The producer produces more than forecasted, his imbalance is positiv.\n",
    "        SURPLUS[k] = real-bid\n",
    "        LACK[k] = 0\n",
    "    elif real < bid :\n",
    "        IMBAL[k] = -1             # The producer doesn't produce enough, his imbalance is negativ.\n",
    "        SURPLUS[k] = 0\n",
    "        LACK[k] = real-bid       \n",
    "    else :\n",
    "        IMBAL[k] = 0              # The production bid was exact.\n",
    "        SURPLUS[k] = 0\n",
    "        LACK[k] = 0"
   ]
  },
  {
   "cell_type": "markdown",
   "metadata": {},
   "source": [
    "#### Day Ahead Revenue :"
   ]
  },
  {
   "cell_type": "code",
   "execution_count": 104,
   "metadata": {},
   "outputs": [],
   "source": [
    "RevDA = [0]*L\n",
    "\n",
    "for k in range (0, L, 1):\n",
    "    \n",
    "    if LambdaS[k] >= 0 :\n",
    "        lambdaS = LambdaS[k]          # 0.001 factor due to conversion from MWh to kWh\n",
    "        bid = RealBID[k]\n",
    "        RevDA[k] = lambdaS*bid*0.001"
   ]
  },
  {
   "cell_type": "markdown",
   "metadata": {},
   "source": [
    "#### Balancing Market Revenue :"
   ]
  },
  {
   "cell_type": "code",
   "execution_count": 105,
   "metadata": {},
   "outputs": [],
   "source": [
    "RevB = [0]*L              # Revenue of balancing market\n",
    "LambdaREG = [0]*L         # Regulation price applied, LambdaS or LambdaB\n",
    "\n",
    "for k in range (0, L, 1):\n",
    "    real = RealMEAS[k]\n",
    "    bid = RealBID[k]\n",
    "    market_imbal = dP[k]\n",
    "    indiv_imbal = IMBAL[k]\n",
    "    \n",
    "    lambdaB = LambdaB[k]\n",
    "    lambdaS = LambdaS[k]\n",
    "    \n",
    "    # Case of upward regulation, the producer helps if he produces more than forecasted ie. his imbalance is positiv\n",
    "    if market_imbal < 0 :\n",
    "        if indiv_imbal >= 0 :\n",
    "            revB = lambdaS*(real-bid)*0.001\n",
    "            lambdaREG = lambdaS\n",
    "        else :\n",
    "            revB = lambdaB*(real-bid)*0.001\n",
    "            lambdaREG = lambdaB\n",
    "    # Case of downward regualtion, the producer helps if he produces less than forecasted ie. his imbalance is negativ\n",
    "    elif market_imbal > 0 :\n",
    "        if indiv_imbal <= 0 :\n",
    "            revB = lambdaS*(real-bid)*0.001\n",
    "            lambdaREG = lambdaS\n",
    "        else :\n",
    "            revB = lambdaB*(real-bid)*0.001\n",
    "            lambdaREG = lambdaB\n",
    "    # Case of balanced market, the producer's imbalance is not penalized :\n",
    "    else :\n",
    "        revB = lambdaS*(real-bid)*0.001\n",
    "        lambdaREG = lambdaS\n",
    "    \n",
    "    RevB[k] = revB\n",
    "    LambdaREG[k] = lambdaREG"
   ]
  },
  {
   "cell_type": "markdown",
   "metadata": {},
   "source": [
    "# Results"
   ]
  },
  {
   "cell_type": "code",
   "execution_count": 106,
   "metadata": {},
   "outputs": [
    {
     "name": "stdout",
     "output_type": "stream",
     "text": [
      "The net annual revenue is, in €:\n",
      "18319789.655950017\n",
      "Composed of a day-ahead revenue, in €:\n",
      "14279355.000000065\n",
      "and a balancing revenue, in €:\n",
      "4040434.655949998\n"
     ]
    }
   ],
   "source": [
    "# Net revenue :\n",
    "RevNET = [0]*L\n",
    "for k in range (0,L, 1):\n",
    "    RevNET[k] = RevDA[k] + RevB[k]\n",
    "\n",
    "RevNET_annual = sum(RevNET)\n",
    "print('The net annual revenue is, in €:')\n",
    "print(RevNET_annual)\n",
    "print('Composed of a day-ahead revenue, in €:')\n",
    "print(sum(RevDA))\n",
    "print('and a balancing revenue, in €:')\n",
    "print(sum(RevB))"
   ]
  },
  {
   "cell_type": "code",
   "execution_count": 107,
   "metadata": {},
   "outputs": [
    {
     "name": "stdout",
     "output_type": "stream",
     "text": [
      "The annual real generation is, in MWh:\n",
      "708295.827\n",
      "Against a annual scheduled generation of, in MWh:\n",
      "468504.0\n"
     ]
    }
   ],
   "source": [
    "# Real generation VS scheduled generation :\n",
    "RealGene = sum(RealMEAS)*0.001\n",
    "SchedGene = sum(RealBID)*0.001\n",
    "print('The annual real generation is, in MWh:')\n",
    "print(RealGene)\n",
    "print('Against a annual scheduled generation of, in MWh:')\n",
    "print(SchedGene)"
   ]
  },
  {
   "cell_type": "code",
   "execution_count": 108,
   "metadata": {},
   "outputs": [
    {
     "name": "stdout",
     "output_type": "stream",
     "text": [
      "The global generation surplus in 2017 is, in MWh:\n",
      "330486.069\n",
      "& the global generation shortage in 2017 is, in MWh:\n",
      "-90694.242\n",
      "Representing a share of the global production, in %:\n",
      "59.46389840865179\n"
     ]
    }
   ],
   "source": [
    "# Surplus VS Shortage :\n",
    "TotSurplus = sum(SURPLUS)*0.001\n",
    "TotShortage = sum(LACK)*0.001\n",
    "print('The global generation surplus in 2017 is, in MWh:')\n",
    "print(TotSurplus)\n",
    "print('& the global generation shortage in 2017 is, in MWh:')\n",
    "print(TotShortage)\n",
    "print('Representing a share of the global production, in %:')\n",
    "print(100*(TotSurplus-TotShortage)/RealGene)"
   ]
  },
  {
   "cell_type": "code",
   "execution_count": 109,
   "metadata": {},
   "outputs": [
    {
     "name": "stdout",
     "output_type": "stream",
     "text": [
      "The global shortage over the year create a opportunity loss of, in €:\n",
      "-316580.49672999984\n",
      "The global surplus over the year create a opportunity loss of, in €:\n",
      "-1071642.8798200015\n",
      "Giving a global opportunity loss of, in € :\n",
      "-1388223.3765500013\n"
     ]
    }
   ],
   "source": [
    "# Imbalance cost :\n",
    "\n",
    "# Cost of upward regulation, when the producer is in shortage :\n",
    "UPCOST = [0]*L\n",
    "# Revenue when downward regulation, when the producer is in surplus :\n",
    "DOWNCOST = [0]*L\n",
    "\n",
    "# Opportunity loss cost : when the producer generates less than schedule and have to buy electricity more expensive than its own : :\n",
    "OPCOST_SHORTAGE = [0]*L\n",
    "# Opportunity loss cost : when the producer generates more than schedule and sell it for <= price than lambdaS :\n",
    "OPCOST_SURPLUS = [0]*L\n",
    "\n",
    "for k in range (0,L,1):\n",
    "    UPCOST[k]=0.001*LACK[k]*LambdaREG[k]\n",
    "    DOWNCOST[k]=0.001*SURPLUS[k]*LambdaREG[k]\n",
    "    \n",
    "    OPCOST_SHORTAGE[k]=0.001*LACK[k]*(LambdaREG[k]-LambdaS[k])\n",
    "    OPCOST_SURPLUS[k]=0.001*SURPLUS[k]*(LambdaREG[k]-LambdaS[k])\n",
    "    \n",
    "print('The global shortage over the year create a opportunity loss of, in €:')\n",
    "print(sum(OPCOST_SHORTAGE))\n",
    "print('The global surplus over the year create a opportunity loss of, in €:')\n",
    "print(sum(OPCOST_SURPLUS))\n",
    "print('Giving a global opportunity loss of, in € :')\n",
    "print(sum(OPCOST_SHORTAGE)+sum(OPCOST_SURPLUS))\n",
    "\n",
    "# Just to check : The global opportunity loss should be equal to \n",
    "# the difference between the net revenue of this strategy and the ideal revenue."
   ]
  },
  {
   "cell_type": "code",
   "execution_count": 110,
   "metadata": {},
   "outputs": [
    {
     "name": "stdout",
     "output_type": "stream",
     "text": [
      "The average upward regulation price is, in €/MWh:\n",
      "39.4837003646824\n",
      "The average downward regulation price is, in €/MWh:\n",
      "23.0611201099675\n",
      "The average energy price, in €/MWh:\n",
      "25.864601989177068\n"
     ]
    }
   ],
   "source": [
    "# Average regulation prices per unit :\n",
    "  \n",
    "    # Upward and downward regulation, in €/MWh :\n",
    "avUP = sum(UPCOST)/(0.001*sum(LACK))\n",
    "avDOWN = sum(DOWNCOST)/(0.001*sum(SURPLUS))\n",
    "\n",
    "\n",
    "print('The average upward regulation price is, in €/MWh:')\n",
    "print(avUP)\n",
    "print('The average downward regulation price is, in €/MWh:')\n",
    "print(avDOWN)\n",
    "\n",
    "print('The average energy price, in €/MWh:')\n",
    "print(sum(RevNET)/RealGene)"
   ]
  },
  {
   "cell_type": "code",
   "execution_count": 111,
   "metadata": {},
   "outputs": [
    {
     "name": "stdout",
     "output_type": "stream",
     "text": [
      "The performance ratio of this strategy is:\n",
      "0.9292116358912953\n"
     ]
    }
   ],
   "source": [
    "# Performance ratio\n",
    "Perf = sum(RevNET)/19715411.37491005\n",
    "print('The performance ratio of this strategy is:')\n",
    "print(Perf)"
   ]
  },
  {
   "cell_type": "markdown",
   "metadata": {},
   "source": [
    "# Results analysis"
   ]
  },
  {
   "cell_type": "markdown",
   "metadata": {},
   "source": [
    "#### Import useful packages"
   ]
  },
  {
   "cell_type": "code",
   "execution_count": 112,
   "metadata": {},
   "outputs": [],
   "source": [
    "from matplotlib import pyplot as plt\n",
    "import numpy as np\n",
    "import math"
   ]
  },
  {
   "cell_type": "markdown",
   "metadata": {},
   "source": [
    "## Cumulative Net Revenue"
   ]
  },
  {
   "cell_type": "code",
   "execution_count": 113,
   "metadata": {},
   "outputs": [
    {
     "name": "stdout",
     "output_type": "stream",
     "text": [
      "Exported\n"
     ]
    }
   ],
   "source": [
    "CumulRevNET = [0]*L\n",
    "CumulRevNET[0] = RevNET[0]\n",
    "for k in range (1,L,1):\n",
    "    CumulRevNET[k] = CumulRevNET[k-1] + RevNET[k]\n",
    "    \n",
    "# Export all revenues data to Excel :\n",
    "    \n",
    "df2 = pd.DataFrame([RevDA, RevB, RevNET, CumulRevNET])\n",
    "df2.to_excel(\"Revenue2.xlsx\")\n",
    "print('Exported')\n"
   ]
  },
  {
   "cell_type": "markdown",
   "metadata": {},
   "source": [
    "## Forecast reliability"
   ]
  },
  {
   "cell_type": "code",
   "execution_count": 114,
   "metadata": {},
   "outputs": [
    {
     "name": "stdout",
     "output_type": "stream",
     "text": [
      "The medium relative forecast error is :\n",
      "-3.822656251886651\n"
     ]
    }
   ],
   "source": [
    "ERROR = [0]*L\n",
    "DeltaLAMBDA = [0]*L                                # Difference between clearing and applied balancing price under 2-price settlement\n",
    "relERROR = [0]*L                                   # Relative error with the measure\n",
    "for k in range (0,L,1):\n",
    "    ERROR[k] = (SURPLUS[k] + LACK[k])*0.001\n",
    "    DeltaLAMBDA[k] = LambdaREG[k] - LambdaS[k]\n",
    "    realMeas = RealMEAS[k]*0.001\n",
    "    if realMeas == 0:\n",
    "        relERROR[k] = 0\n",
    "    else:\n",
    "        relERROR [k] = ERROR[k]/realMeas\n",
    "\n",
    "relError = (sum(relERROR)/L)\n",
    "print('The medium relative forecast error is :')\n",
    "print(relError)\n"
   ]
  }
 ],
 "metadata": {
  "kernelspec": {
   "display_name": "Python 3",
   "language": "python",
   "name": "python3"
  },
  "language_info": {
   "codemirror_mode": {
    "name": "ipython",
    "version": 3
   },
   "file_extension": ".py",
   "mimetype": "text/x-python",
   "name": "python",
   "nbconvert_exporter": "python",
   "pygments_lexer": "ipython3",
   "version": "3.7.3"
  }
 },
 "nbformat": 4,
 "nbformat_minor": 2
}
